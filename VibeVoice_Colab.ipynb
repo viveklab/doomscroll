{
  "nbformat": 4,
  "nbformat_minor": 0,
  "metadata": {
    "colab": {
      "provenance": [],
      "gpuType": "T4",
      "include_colab_link": true
    },
    "kernelspec": {
      "name": "python3",
      "display_name": "Python 3"
    },
    "language_info": {
      "name": "python"
    },
    "accelerator": "GPU"
  },
  "cells": [
    {
      "cell_type": "markdown",
      "metadata": {
        "id": "view-in-github",
        "colab_type": "text"
      },
      "source": [
        "<a href=\"https://colab.research.google.com/github/viveklab/doomscroll/blob/main/VibeVoice_Colab.ipynb\" target=\"_parent\"><img src=\"https://colab.research.google.com/assets/colab-badge.svg\" alt=\"Open In Colab\"/></a>"
      ]
    },
    {
      "cell_type": "markdown",
      "source": [
        "\n",
        "# VibeVoice Colab\n",
        "### 🏷️ **Credits & License**\n",
        "\n",
        "* 🔗 [VibeVoice GitHub Repository](https://github.com/microsoft/VibeVoice)\n",
        "* 🤗 [VibeVoice on Hugging Face](https://huggingface.co/microsoft/VibeVoice-1.5B)\n",
        "* 📄 **License**: Provided under the [MIT License](https://github.com/microsoft/VibeVoice/blob/main/LICENSE)\n",
        "\n",
        "### ⚠️ **Usage Disclaimer**\n",
        "\n",
        "This tool enables **AI-generated podcast creation** using cloned voices. While it can be a powerful resource for storytelling, education, and creative projects, it also carries risks if misused. By using this tool, you agree to the following guidelines:\n",
        "\n",
        "* **No Misrepresentation**: Do not use cloned voices to impersonate real people or mislead listeners into believing AI-generated voices are authentic recordings without disclosure.\n",
        "* **Transparency**: Clearly disclose when podcast content has been generated with AI, including synthetic voices or AI-written scripts.\n",
        "* **No Harmful Content**: Do not produce or distribute content that promotes hate, harassment, misinformation, defamation, or any form of harmful/deceptive material.\n",
        "* **Legal Compliance**: Ensure all use of this tool complies with copyright laws, data protection regulations, and all applicable legal and ethical standards.\n",
        "* **Respect for Consent**: Do not replicate or publish anyone’s voice without explicit permission.\n",
        "\n",
        "> ⚖️ **Legal Responsibility**\n",
        "\n",
        "> The developers of this tool disclaim all liability for misuse. **Users bear full responsibility** for ensuring that their usage complies with all applicable laws, regulations, and ethical guidelines.\n",
        "\n"
      ],
      "metadata": {
        "id": "xP2o9tdKh0X4"
      }
    },
    {
      "cell_type": "code",
      "source": [
        "# @title Install VibeVoice\n",
        "\n",
        "%cd /content/\n",
        "\n",
        "\n",
        "# !git clone https://github.com/microsoft/VibeVoice.git\n",
        "# Download colab.py\n",
        "# %cd /content/VibeVoice/demo\n",
        "# !wget https://raw.githubusercontent.com/NeuralFalconYT/VibeVoice/refs/heads/main/demo/colab.py\n",
        "\n",
        "\n",
        "# (Optional) If you experience compatibility issues with the latest version, you can use a pinned fork instead:\n",
        "!git clone https://github.com/NeuralFalconYT/VibeVoice.git\n",
        "\n",
        "\n",
        "\n",
        "%cd /content/VibeVoice/\n",
        "!pip install -e .\n",
        "# !pip install pydub>=0.25.1\n",
        "\n",
        "from IPython.display import clear_output\n",
        "clear_output()\n"
      ],
      "metadata": {
        "id": "QBpsjY7CXmqc"
      },
      "execution_count": 9,
      "outputs": []
    },
    {
      "cell_type": "code",
      "source": [
        "#@title Run Official Gradio UI\n",
        "# !python /content/VibeVoice/demo/gradio_demo.py --model_path \"microsoft/VibeVoice-1.5B\" --inference_steps 10 --share"
      ],
      "metadata": {
        "id": "zb1bKXr0-l5P"
      },
      "execution_count": 10,
      "outputs": []
    },
    {
      "cell_type": "code",
      "source": [],
      "metadata": {
        "id": "6EheLEAjLsUu"
      },
      "execution_count": 10,
      "outputs": []
    },
    {
      "cell_type": "code",
      "source": [
        "#@title Automatically save podcast to your Google Drive [Optional]\n",
        "Enable_Drive_Save= False  # @param {type: \"boolean\"}\n",
        "if Enable_Drive_Save:\n",
        "  from google.colab import drive\n",
        "  drive.mount('/content/gdrive/')\n",
        "\n"
      ],
      "metadata": {
        "cellView": "form",
        "id": "G97PoTxbLpk9"
      },
      "execution_count": 11,
      "outputs": []
    },
    {
      "cell_type": "code",
      "source": [
        "#@title Run VibeVoice Podcast\n",
        "!python /content/VibeVoice/demo/colab.py --model_path microsoft/VibeVoice-1.5B --inference_steps 10 --debug --share"
      ],
      "metadata": {
        "id": "1VSytP-9YMYa",
        "outputId": "e3c78d75-9df9-4c57-ff8b-d9cdf2423a2f",
        "colab": {
          "base_uri": "https://localhost:8080/"
        }
      },
      "execution_count": 12,
      "outputs": [
        {
          "output_type": "stream",
          "name": "stdout",
          "text": [
            "2025-09-19 07:51:42.997860: E external/local_xla/xla/stream_executor/cuda/cuda_fft.cc:467] Unable to register cuFFT factory: Attempting to register factory for plugin cuFFT when one has already been registered\n",
            "WARNING: All log messages before absl::InitializeLog() is called are written to STDERR\n",
            "E0000 00:00:1758268303.248096    4730 cuda_dnn.cc:8579] Unable to register cuDNN factory: Attempting to register factory for plugin cuDNN when one has already been registered\n",
            "E0000 00:00:1758268303.312895    4730 cuda_blas.cc:1407] Unable to register cuBLAS factory: Attempting to register factory for plugin cuBLAS when one has already been registered\n",
            "W0000 00:00:1758268303.809301    4730 computation_placer.cc:177] computation placer already registered. Please check linkage and avoid linking the same target more than once.\n",
            "W0000 00:00:1758268303.809356    4730 computation_placer.cc:177] computation placer already registered. Please check linkage and avoid linking the same target more than once.\n",
            "W0000 00:00:1758268303.809362    4730 computation_placer.cc:177] computation placer already registered. Please check linkage and avoid linking the same target more than once.\n",
            "W0000 00:00:1758268303.809372    4730 computation_placer.cc:177] computation placer already registered. Please check linkage and avoid linking the same target more than once.\n",
            "2025-09-19 07:51:43.861033: I tensorflow/core/platform/cpu_feature_guard.cc:210] This TensorFlow binary is optimized to use available CPU instructions in performance-critical operations.\n",
            "To enable the following instructions: AVX2 FMA, in other operations, rebuild TensorFlow with the appropriate compiler flags.\n",
            "WARNING:vibevoice.modular.modular_vibevoice_tokenizer:APEX FusedRMSNorm not available, using native implementation\n",
            "📂 Download directory: /content/VibeVoice/VibeVoice-1.5B\n",
            "📦 Found 9 files in repo 'microsoft/VibeVoice-1.5B'. Checking cache ...\n",
            "✔️ Skipped (already exists): .gitattributes\n",
            "✔️ Skipped (already exists): README.md\n",
            "✔️ Skipped (already exists): config.json\n",
            "✔️ Skipped (already exists): Fig1.png\n",
            "✔️ Skipped (already exists): model-00001-of-00003.safetensors\n",
            "✔️ Skipped (already exists): model-00002-of-00003.safetensors\n",
            "✔️ Skipped (already exists): model-00003-of-00003.safetensors\n",
            "✔️ Skipped (already exists): model.safetensors.index.json\n",
            "✔️ Skipped (already exists): preprocessor_config.json\n",
            "Processing files: 100% 9/9 [00:00<00:00, 2984.33file/s]\n",
            "🎙️ Initializing VibeVoice ...\n",
            "Loading processor & model from /content/VibeVoice/VibeVoice-1.5B\n",
            "The tokenizer class you load from this checkpoint is not the same type as the class this function is called from. It may result in unexpected tokenization. \n",
            "The tokenizer class you load from this checkpoint is 'Qwen2Tokenizer'. \n",
            "The class this function is called from is 'VibeVoiceTextTokenizerFast'.\n",
            "Loading checkpoint shards: 100% 3/3 [00:23<00:00,  7.69s/it]\n",
            "Language model attention: sdpa\n",
            "Found 10 voice files in /content/VibeVoice/demo/voices\n",
            "🚀 Launching Gradio Demo...\n",
            "* Running on local URL:  http://127.0.0.1:7860\n",
            "* Running on public URL: https://9308878d5b48031452.gradio.live\n",
            "\n",
            "This share link expires in 1 week. For free permanent hosting and GPU upgrades, run `gradio deploy` from the terminal in the working directory to deploy to Hugging Face Spaces (https://huggingface.co/spaces)\n",
            "Found 11 voice files in /content/VibeVoice/demo/voices\n",
            "Generating (active: 1/1):   0% 0/970 [00:00<?, ?it/s]^C\n"
          ]
        }
      ]
    }
  ]
}